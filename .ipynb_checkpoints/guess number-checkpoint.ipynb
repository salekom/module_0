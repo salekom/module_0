{
 "cells": [
  {
   "cell_type": "code",
   "execution_count": 1,
   "metadata": {
    "collapsed": true,
    "scrolled": true
   },
   "outputs": [],
   "source": [
    "def game_core_v3(number):\n",
    "    '''Устанавливаем предполагаемое число с помощью генератора случайных чисел,\n",
    "       определяем больше или меньше искомого, затем с помощью разницы между максимумом\n",
    "       или минимумом диапазонов поиска и предполагаемым числом и целочисленного деления\n",
    "       переопределяем предполагаемое число и снова проверяем.\n",
    "       Функция принимает загаданное число и возвращает число попыток'''\n",
    "   count = 0\n",
    "    predict = np.random.randint(1,101) # предполагаемое число\n",
    "    max_ = 100 # устанавливаем максимум диапазона поиска  \n",
    "    min_ = 1   # устанавливаем минимум диапазона поиска\n",
    "    while True:\n",
    "        count+=1\n",
    "        if (number - predict) == 1: # Искомое число больше предполагаемого на 1?\n",
    "            predict += 1            # число найдено\n",
    "            return count            # выход из цикла\n",
    "        elif (number - predict) == -1: # Искомое число меньше предполагаемого на 1?\n",
    "            predict -= 1               # число найдено\n",
    "            return count               # выход из цикла\n",
    "        elif predict < number:                # Если предполагаемое число меньше искомого,\n",
    "            min_ = predict                    # тогда переопределяем минимум диапазона поиска \n",
    "            predict += (max_ -  predict) // 2 # и вычисляем новое предполагаемое значение числа.\n",
    "        elif predict > number:                # Если предполагаемое число больше искомого,\n",
    "            max_ = predict                    # тогда переопределяем максимум диапазона поиска\n",
    "            predict -=  (predict - min_) // 2 # и вычисляем новое предполагаемое значение числа.\n",
    "        else:\n",
    "            return count # выход из цикла, если угадали\n",
    "\n",
    "def score_game(game_core):\n",
    "    '''Запускаем игру 1000 раз, чтобы узнать, как быстро игра угадывает число'''\n",
    "    count_ls = []\n",
    "    np.random.seed(1)  # фиксируем RANDOM SEED, чтобы ваш эксперимент был воспроизводим!\n",
    "    random_array = np.random.randint(1,101, size=(1000))\n",
    "    for number in random_array:\n",
    "        count_ls.append(game_core(number))\n",
    "    score = int(np.mean(count_ls))\n",
    "    print(f\"Ваш алгоритм угадывает число в среднем за {score} попыток\")\n",
    "    return(score)\n",
    "\n"
   ]
  },
  {
   "cell_type": "code",
   "execution_count": null,
   "metadata": {
    "collapsed": true
   },
   "outputs": [],
   "source": []
  }
 ],
 "metadata": {
  "kernelspec": {
   "display_name": "Python 3",
   "language": "python",
   "name": "python3"
  },
  "language_info": {
   "codemirror_mode": {
    "name": "ipython",
    "version": 3
   },
   "file_extension": ".py",
   "mimetype": "text/x-python",
   "name": "python",
   "nbconvert_exporter": "python",
   "pygments_lexer": "ipython3",
   "version": "3.5.1"
  }
 },
 "nbformat": 4,
 "nbformat_minor": 5
}
